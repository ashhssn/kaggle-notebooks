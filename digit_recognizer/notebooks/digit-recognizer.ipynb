{
 "cells": [
  {
   "cell_type": "markdown",
   "metadata": {},
   "source": [
    "## Imports"
   ]
  },
  {
   "cell_type": "code",
   "execution_count": 1,
   "metadata": {
    "execution": {
     "iopub.execute_input": "2024-12-22T12:37:25.865657Z",
     "iopub.status.busy": "2024-12-22T12:37:25.865320Z",
     "iopub.status.idle": "2024-12-22T12:37:25.879318Z",
     "shell.execute_reply": "2024-12-22T12:37:25.878658Z",
     "shell.execute_reply.started": "2024-12-22T12:37:25.865632Z"
    },
    "trusted": true
   },
   "outputs": [],
   "source": [
    "import torch\n",
    "import torch.nn as nn\n",
    "import torch.nn.functional as F\n",
    "from torch.utils.data import DataLoader, TensorDataset\n",
    "\n",
    "\n",
    "import numpy as np\n",
    "import pandas as pd\n",
    "\n",
    "import matplotlib.pyplot as plt"
   ]
  },
  {
   "cell_type": "code",
   "execution_count": null,
   "metadata": {},
   "outputs": [],
   "source": [
    "# random seed for Torch and NumPy\n",
    "\n",
    "torch.manual_seed(0)\n",
    "torch.cuda.manual_seed(0)\n",
    "np.random.seed(0)"
   ]
  },
  {
   "cell_type": "markdown",
   "metadata": {},
   "source": [
    "## Load Data\n",
    "\n",
    "Let's load in our data from the csv files into a pandas dataframe."
   ]
  },
  {
   "cell_type": "code",
   "execution_count": 2,
   "metadata": {
    "execution": {
     "iopub.execute_input": "2024-12-22T12:37:25.880685Z",
     "iopub.status.busy": "2024-12-22T12:37:25.880304Z",
     "iopub.status.idle": "2024-12-22T12:37:29.123312Z",
     "shell.execute_reply": "2024-12-22T12:37:29.122604Z",
     "shell.execute_reply.started": "2024-12-22T12:37:25.880663Z"
    },
    "trusted": true
   },
   "outputs": [],
   "source": [
    "df_train = pd.read_csv(\"../data/train.csv\")\n",
    "df_test = pd.read_csv(\"../data/test.csv\")"
   ]
  },
  {
   "cell_type": "code",
   "execution_count": 3,
   "metadata": {
    "execution": {
     "iopub.execute_input": "2024-12-22T12:37:29.124537Z",
     "iopub.status.busy": "2024-12-22T12:37:29.124298Z",
     "iopub.status.idle": "2024-12-22T12:37:29.137384Z",
     "shell.execute_reply": "2024-12-22T12:37:29.136530Z",
     "shell.execute_reply.started": "2024-12-22T12:37:29.124500Z"
    },
    "trusted": true
   },
   "outputs": [
    {
     "data": {
      "text/html": [
       "<div>\n",
       "<style scoped>\n",
       "    .dataframe tbody tr th:only-of-type {\n",
       "        vertical-align: middle;\n",
       "    }\n",
       "\n",
       "    .dataframe tbody tr th {\n",
       "        vertical-align: top;\n",
       "    }\n",
       "\n",
       "    .dataframe thead th {\n",
       "        text-align: right;\n",
       "    }\n",
       "</style>\n",
       "<table border=\"1\" class=\"dataframe\">\n",
       "  <thead>\n",
       "    <tr style=\"text-align: right;\">\n",
       "      <th></th>\n",
       "      <th>label</th>\n",
       "      <th>pixel0</th>\n",
       "      <th>pixel1</th>\n",
       "      <th>pixel2</th>\n",
       "      <th>pixel3</th>\n",
       "      <th>pixel4</th>\n",
       "      <th>pixel5</th>\n",
       "      <th>pixel6</th>\n",
       "      <th>pixel7</th>\n",
       "      <th>pixel8</th>\n",
       "      <th>...</th>\n",
       "      <th>pixel774</th>\n",
       "      <th>pixel775</th>\n",
       "      <th>pixel776</th>\n",
       "      <th>pixel777</th>\n",
       "      <th>pixel778</th>\n",
       "      <th>pixel779</th>\n",
       "      <th>pixel780</th>\n",
       "      <th>pixel781</th>\n",
       "      <th>pixel782</th>\n",
       "      <th>pixel783</th>\n",
       "    </tr>\n",
       "  </thead>\n",
       "  <tbody>\n",
       "    <tr>\n",
       "      <th>0</th>\n",
       "      <td>1</td>\n",
       "      <td>0</td>\n",
       "      <td>0</td>\n",
       "      <td>0</td>\n",
       "      <td>0</td>\n",
       "      <td>0</td>\n",
       "      <td>0</td>\n",
       "      <td>0</td>\n",
       "      <td>0</td>\n",
       "      <td>0</td>\n",
       "      <td>...</td>\n",
       "      <td>0</td>\n",
       "      <td>0</td>\n",
       "      <td>0</td>\n",
       "      <td>0</td>\n",
       "      <td>0</td>\n",
       "      <td>0</td>\n",
       "      <td>0</td>\n",
       "      <td>0</td>\n",
       "      <td>0</td>\n",
       "      <td>0</td>\n",
       "    </tr>\n",
       "    <tr>\n",
       "      <th>1</th>\n",
       "      <td>0</td>\n",
       "      <td>0</td>\n",
       "      <td>0</td>\n",
       "      <td>0</td>\n",
       "      <td>0</td>\n",
       "      <td>0</td>\n",
       "      <td>0</td>\n",
       "      <td>0</td>\n",
       "      <td>0</td>\n",
       "      <td>0</td>\n",
       "      <td>...</td>\n",
       "      <td>0</td>\n",
       "      <td>0</td>\n",
       "      <td>0</td>\n",
       "      <td>0</td>\n",
       "      <td>0</td>\n",
       "      <td>0</td>\n",
       "      <td>0</td>\n",
       "      <td>0</td>\n",
       "      <td>0</td>\n",
       "      <td>0</td>\n",
       "    </tr>\n",
       "    <tr>\n",
       "      <th>2</th>\n",
       "      <td>1</td>\n",
       "      <td>0</td>\n",
       "      <td>0</td>\n",
       "      <td>0</td>\n",
       "      <td>0</td>\n",
       "      <td>0</td>\n",
       "      <td>0</td>\n",
       "      <td>0</td>\n",
       "      <td>0</td>\n",
       "      <td>0</td>\n",
       "      <td>...</td>\n",
       "      <td>0</td>\n",
       "      <td>0</td>\n",
       "      <td>0</td>\n",
       "      <td>0</td>\n",
       "      <td>0</td>\n",
       "      <td>0</td>\n",
       "      <td>0</td>\n",
       "      <td>0</td>\n",
       "      <td>0</td>\n",
       "      <td>0</td>\n",
       "    </tr>\n",
       "    <tr>\n",
       "      <th>3</th>\n",
       "      <td>4</td>\n",
       "      <td>0</td>\n",
       "      <td>0</td>\n",
       "      <td>0</td>\n",
       "      <td>0</td>\n",
       "      <td>0</td>\n",
       "      <td>0</td>\n",
       "      <td>0</td>\n",
       "      <td>0</td>\n",
       "      <td>0</td>\n",
       "      <td>...</td>\n",
       "      <td>0</td>\n",
       "      <td>0</td>\n",
       "      <td>0</td>\n",
       "      <td>0</td>\n",
       "      <td>0</td>\n",
       "      <td>0</td>\n",
       "      <td>0</td>\n",
       "      <td>0</td>\n",
       "      <td>0</td>\n",
       "      <td>0</td>\n",
       "    </tr>\n",
       "    <tr>\n",
       "      <th>4</th>\n",
       "      <td>0</td>\n",
       "      <td>0</td>\n",
       "      <td>0</td>\n",
       "      <td>0</td>\n",
       "      <td>0</td>\n",
       "      <td>0</td>\n",
       "      <td>0</td>\n",
       "      <td>0</td>\n",
       "      <td>0</td>\n",
       "      <td>0</td>\n",
       "      <td>...</td>\n",
       "      <td>0</td>\n",
       "      <td>0</td>\n",
       "      <td>0</td>\n",
       "      <td>0</td>\n",
       "      <td>0</td>\n",
       "      <td>0</td>\n",
       "      <td>0</td>\n",
       "      <td>0</td>\n",
       "      <td>0</td>\n",
       "      <td>0</td>\n",
       "    </tr>\n",
       "  </tbody>\n",
       "</table>\n",
       "<p>5 rows × 785 columns</p>\n",
       "</div>"
      ],
      "text/plain": [
       "   label  pixel0  pixel1  pixel2  pixel3  pixel4  pixel5  pixel6  pixel7  \\\n",
       "0      1       0       0       0       0       0       0       0       0   \n",
       "1      0       0       0       0       0       0       0       0       0   \n",
       "2      1       0       0       0       0       0       0       0       0   \n",
       "3      4       0       0       0       0       0       0       0       0   \n",
       "4      0       0       0       0       0       0       0       0       0   \n",
       "\n",
       "   pixel8  ...  pixel774  pixel775  pixel776  pixel777  pixel778  pixel779  \\\n",
       "0       0  ...         0         0         0         0         0         0   \n",
       "1       0  ...         0         0         0         0         0         0   \n",
       "2       0  ...         0         0         0         0         0         0   \n",
       "3       0  ...         0         0         0         0         0         0   \n",
       "4       0  ...         0         0         0         0         0         0   \n",
       "\n",
       "   pixel780  pixel781  pixel782  pixel783  \n",
       "0         0         0         0         0  \n",
       "1         0         0         0         0  \n",
       "2         0         0         0         0  \n",
       "3         0         0         0         0  \n",
       "4         0         0         0         0  \n",
       "\n",
       "[5 rows x 785 columns]"
      ]
     },
     "execution_count": 3,
     "metadata": {},
     "output_type": "execute_result"
    }
   ],
   "source": [
    "df_train.head()"
   ]
  },
  {
   "cell_type": "markdown",
   "metadata": {},
   "source": [
    "## Splitting data\n",
    "\n",
    "We further split our data into training and valudation sets. I've done it manually here, using a 80-20 split. While for this competition it may work, in general it is better to randomize this split."
   ]
  },
  {
   "cell_type": "code",
   "execution_count": 4,
   "metadata": {
    "execution": {
     "iopub.execute_input": "2024-12-22T12:37:29.139397Z",
     "iopub.status.busy": "2024-12-22T12:37:29.139143Z",
     "iopub.status.idle": "2024-12-22T12:37:29.468538Z",
     "shell.execute_reply": "2024-12-22T12:37:29.467486Z",
     "shell.execute_reply.started": "2024-12-22T12:37:29.139375Z"
    },
    "trusted": true
   },
   "outputs": [],
   "source": [
    "feature_train_tensor = torch.tensor(df_train.drop('label', axis=1)[0:33600].to_numpy())\n",
    "label_train_tensor = torch.tensor(df_train.loc[:33599, 'label'].to_numpy())\n",
    "\n",
    "feature_val_tensor = torch.tensor(df_train.drop('label', axis=1)[33600:].to_numpy())\n",
    "label_val_tensor = torch.tensor(df_train.loc[33600:, 'label'].to_numpy())\n",
    "\n",
    "test_tensor = torch.tensor(df_test.to_numpy())"
   ]
  },
  {
   "cell_type": "markdown",
   "metadata": {},
   "source": [
    "A simple normalization to keep the values between 0 and 1."
   ]
  },
  {
   "cell_type": "code",
   "execution_count": 5,
   "metadata": {
    "execution": {
     "iopub.execute_input": "2024-12-22T12:37:29.470234Z",
     "iopub.status.busy": "2024-12-22T12:37:29.470004Z",
     "iopub.status.idle": "2024-12-22T12:37:29.703882Z",
     "shell.execute_reply": "2024-12-22T12:37:29.703129Z",
     "shell.execute_reply.started": "2024-12-22T12:37:29.470216Z"
    },
    "trusted": true
   },
   "outputs": [],
   "source": [
    "feature_train_tensor = feature_train_tensor.float() / 255.0\n",
    "feature_val_tensor = feature_val_tensor.float() / 255.0\n",
    "test_tensor = test_tensor.float() / 255.0"
   ]
  },
  {
   "cell_type": "code",
   "execution_count": 6,
   "metadata": {
    "execution": {
     "iopub.execute_input": "2024-12-22T12:37:29.705078Z",
     "iopub.status.busy": "2024-12-22T12:37:29.704755Z",
     "iopub.status.idle": "2024-12-22T12:37:29.710262Z",
     "shell.execute_reply": "2024-12-22T12:37:29.709595Z",
     "shell.execute_reply.started": "2024-12-22T12:37:29.705050Z"
    },
    "trusted": true
   },
   "outputs": [
    {
     "data": {
      "text/plain": [
       "(torch.Size([33600, 784]), torch.Size([33600]))"
      ]
     },
     "execution_count": 6,
     "metadata": {},
     "output_type": "execute_result"
    }
   ],
   "source": [
    "feature_train_tensor.shape, label_train_tensor.shape"
   ]
  },
  {
   "cell_type": "code",
   "execution_count": 7,
   "metadata": {
    "execution": {
     "iopub.execute_input": "2024-12-22T12:54:19.306058Z",
     "iopub.status.busy": "2024-12-22T12:54:19.305774Z",
     "iopub.status.idle": "2024-12-22T12:54:19.310674Z",
     "shell.execute_reply": "2024-12-22T12:54:19.309761Z",
     "shell.execute_reply.started": "2024-12-22T12:54:19.306036Z"
    },
    "trusted": true
   },
   "outputs": [],
   "source": [
    "train_dataset = TensorDataset(feature_train_tensor, label_train_tensor)\n",
    "val_dataset = TensorDataset(feature_val_tensor, label_val_tensor)\n",
    "test_dataset = TensorDataset(test_tensor)\n",
    "\n",
    "train_loader = DataLoader(train_dataset, batch_size = 128, shuffle = True)\n",
    "val_loader = DataLoader(val_dataset, batch_size = 128, shuffle = False)\n",
    "test_loader = DataLoader(test_dataset, batch_size = 128, shuffle = False, collate_fn=None)"
   ]
  },
  {
   "cell_type": "code",
   "execution_count": 8,
   "metadata": {
    "execution": {
     "iopub.execute_input": "2024-12-22T12:54:20.554971Z",
     "iopub.status.busy": "2024-12-22T12:54:20.554649Z",
     "iopub.status.idle": "2024-12-22T12:54:20.566036Z",
     "shell.execute_reply": "2024-12-22T12:54:20.565311Z",
     "shell.execute_reply.started": "2024-12-22T12:54:20.554950Z"
    },
    "trusted": true
   },
   "outputs": [
    {
     "data": {
      "text/plain": [
       "(torch.Tensor, torch.Tensor)"
      ]
     },
     "execution_count": 8,
     "metadata": {},
     "output_type": "execute_result"
    }
   ],
   "source": [
    "feature, label = next(iter(train_loader))\n",
    "type(feature), type(label)"
   ]
  },
  {
   "cell_type": "code",
   "execution_count": 9,
   "metadata": {
    "execution": {
     "iopub.execute_input": "2024-12-22T12:55:31.980627Z",
     "iopub.status.busy": "2024-12-22T12:55:31.980250Z",
     "iopub.status.idle": "2024-12-22T12:55:31.986990Z",
     "shell.execute_reply": "2024-12-22T12:55:31.986196Z",
     "shell.execute_reply.started": "2024-12-22T12:55:31.980596Z"
    },
    "trusted": true
   },
   "outputs": [
    {
     "data": {
      "text/plain": [
       "torch.Size([128, 784])"
      ]
     },
     "execution_count": 9,
     "metadata": {},
     "output_type": "execute_result"
    }
   ],
   "source": [
    "feature = next(iter(test_loader))[0]\n",
    "feature.shape"
   ]
  },
  {
   "cell_type": "code",
   "execution_count": 10,
   "metadata": {
    "execution": {
     "iopub.execute_input": "2024-12-22T12:37:29.737037Z",
     "iopub.status.busy": "2024-12-22T12:37:29.736776Z",
     "iopub.status.idle": "2024-12-22T12:37:29.742635Z",
     "shell.execute_reply": "2024-12-22T12:37:29.741744Z",
     "shell.execute_reply.started": "2024-12-22T12:37:29.737005Z"
    },
    "trusted": true
   },
   "outputs": [
    {
     "data": {
      "text/plain": [
       "torch.Size([784])"
      ]
     },
     "execution_count": 10,
     "metadata": {},
     "output_type": "execute_result"
    }
   ],
   "source": [
    "feature, label = next(iter(train_dataset))\n",
    "feature.shape"
   ]
  },
  {
   "cell_type": "markdown",
   "metadata": {},
   "source": [
    "## Having a look at our dataset\n",
    "\n",
    "Let's have a look at some of our training dataset alongside their labels, we can use matplotlib to do some simple plotting."
   ]
  },
  {
   "cell_type": "code",
   "execution_count": 11,
   "metadata": {
    "execution": {
     "iopub.execute_input": "2024-12-22T12:37:29.744668Z",
     "iopub.status.busy": "2024-12-22T12:37:29.744422Z",
     "iopub.status.idle": "2024-12-22T12:37:30.958872Z",
     "shell.execute_reply": "2024-12-22T12:37:30.957865Z",
     "shell.execute_reply.started": "2024-12-22T12:37:29.744647Z"
    },
    "trusted": true
   },
   "outputs": [
    {
     "data": {
      "image/png": "[encoded data removed]",
      "text/plain": [
       "<Figure size 640x480 with 9 Axes>"
      ]
     },
     "metadata": {},
     "output_type": "display_data"
    }
   ],
   "source": [
    "iter_dataset = iter(train_dataset)\n",
    "for i in range(9):\n",
    "    plt.subplot(3, 3, i +1)\n",
    "    feature, label = next(iter_dataset)\n",
    "    plt.imshow(feature.reshape(28, 28))\n",
    "    plt.title(label, fontsize=6)"
   ]
  },
  {
   "cell_type": "markdown",
   "metadata": {},
   "source": [
    "## Writing our training function"
   ]
  },
  {
   "cell_type": "code",
   "execution_count": 12,
   "metadata": {
    "execution": {
     "iopub.execute_input": "2024-12-22T12:37:30.960878Z",
     "iopub.status.busy": "2024-12-22T12:37:30.960454Z",
     "iopub.status.idle": "2024-12-22T12:37:30.965758Z",
     "shell.execute_reply": "2024-12-22T12:37:30.964803Z",
     "shell.execute_reply.started": "2024-12-22T12:37:30.960839Z"
    },
    "trusted": true
   },
   "outputs": [],
   "source": [
    "def train_epoch(train_loader, model, criterion, optimizer, device):\n",
    "    model.train()\n",
    "\n",
    "    losses = []\n",
    "\n",
    "    for idx, data in enumerate(train_loader):\n",
    "        \n",
    "        features, labels = data[0].to(device), data[1].to(device)\n",
    "        optimizer.zero_grad()\n",
    "        \n",
    "        outputs = model(features)\n",
    "        loss = criterion(outputs, labels)\n",
    "        loss.backward()\n",
    "        optimizer.step()\n",
    "        \n",
    "        losses.append(loss.item())       \n",
    "        # print(f\"Batch ID: {idx} \\t Loss: {loss.item()}\")\n",
    "    return losses"
   ]
  },
  {
   "cell_type": "markdown",
   "metadata": {},
   "source": [
    "# Writing our evaluation function"
   ]
  },
  {
   "cell_type": "code",
   "execution_count": 13,
   "metadata": {
    "execution": {
     "iopub.execute_input": "2024-12-22T12:39:48.075468Z",
     "iopub.status.busy": "2024-12-22T12:39:48.075155Z",
     "iopub.status.idle": "2024-12-22T12:39:48.080775Z",
     "shell.execute_reply": "2024-12-22T12:39:48.079969Z",
     "shell.execute_reply.started": "2024-12-22T12:39:48.075443Z"
    },
    "trusted": true
   },
   "outputs": [],
   "source": [
    "def evaluate(dataloader, model, criterion, device):\n",
    "    model.eval() # weights are not updated\n",
    "\n",
    "    with torch.no_grad():\n",
    "        total_correct = 0\n",
    "        total_samples = 0\n",
    "        total_loss = 0\n",
    "        \n",
    "        for features, labels in dataloader:\n",
    "            features, labels = features.to(device), labels.to(device)\n",
    "            outputs = model(features)\n",
    "\n",
    "            loss = criterion(outputs, labels) # we need val loss\n",
    "            total_loss += loss.item()\n",
    "\n",
    "            _, preds = torch.max(outputs, dim=1)\n",
    "            total_correct += (preds==labels).sum().item()\n",
    "            total_samples += labels.size(0)\n",
    "\n",
    "        avg_loss = total_loss / len(dataloader)\n",
    "        accuracy = total_correct / total_samples * 100\n",
    "\n",
    "    return avg_loss, accuracy\n",
    "    "
   ]
  },
  {
   "cell_type": "code",
   "execution_count": 14,
   "metadata": {
    "execution": {
     "iopub.execute_input": "2024-12-22T12:39:50.528041Z",
     "iopub.status.busy": "2024-12-22T12:39:50.527738Z",
     "iopub.status.idle": "2024-12-22T12:39:50.533697Z",
     "shell.execute_reply": "2024-12-22T12:39:50.532756Z",
     "shell.execute_reply.started": "2024-12-22T12:39:50.528019Z"
    },
    "trusted": true
   },
   "outputs": [],
   "source": [
    "def train_modelcv(train_loader, test_loader, model, criterion, optimizer, num_epochs, device):\n",
    "    train_losses = []\n",
    "    val_losses = []\n",
    "    best_measure = 0\n",
    "    best_epoch = -1\n",
    "\n",
    "    for epoch in range(num_epochs):\n",
    "        print(f\"Epoch {epoch}/{num_epochs-1}\")\n",
    "        print(\"-\" * 10)\n",
    "        \n",
    "        train_loss = train_epoch(train_loader, model, criterion, optimizer, device)\n",
    "        train_losses.append(train_loss)\n",
    "\n",
    "        val_loss, measure = evaluate(test_loader, model, criterion, device)\n",
    "        val_losses.append(val_loss)\n",
    "\n",
    "        print(\"Performance measure: \", measure)\n",
    "\n",
    "        if measure > best_measure:\n",
    "            best_weights = model.state_dict()\n",
    "            best_measure = measure\n",
    "            best_epoch = epoch\n",
    "            print(f\"Current Best is epoch {best_epoch} with {best_measure} %\")\n",
    "\n",
    "    return best_weights, best_measure, best_epoch, train_losses, val_losses\n",
    "\n",
    "        \n",
    "        "
   ]
  },
  {
   "cell_type": "markdown",
   "metadata": {},
   "source": [
    "# Building our model\n",
    "\n",
    "Here comes the fun part, actually building our Model! I'm going to build a simple convolutional neural network with some fully connected layers. We can further tune our model in the future."
   ]
  },
  {
   "cell_type": "code",
   "execution_count": 15,
   "metadata": {
    "execution": {
     "iopub.execute_input": "2024-12-22T12:39:53.209367Z",
     "iopub.status.busy": "2024-12-22T12:39:53.209067Z",
     "iopub.status.idle": "2024-12-22T12:39:53.215303Z",
     "shell.execute_reply": "2024-12-22T12:39:53.214593Z",
     "shell.execute_reply.started": "2024-12-22T12:39:53.209342Z"
    },
    "trusted": true
   },
   "outputs": [],
   "source": [
    "class CustomModel(nn.Module):\n",
    "\n",
    "    def __init__(self, indims, numcl):\n",
    "        super().__init__()\n",
    "        self.conv1 = nn.Conv2d(1, 64, 3)\n",
    "        self.conv2 = nn.Conv2d(64, 128, 3)\n",
    "        self.conv3 = nn.Conv2d(128, 256, 3)\n",
    "\n",
    "        self.pool = nn.MaxPool2d(2, stride=1) # let's keep it stride of 1 for simple calculations eh\n",
    "\n",
    "        self.fc1 = nn.Linear(256 * 19 * 19, 100)\n",
    "        self.fc2 = nn.Linear(100, numcl)\n",
    "\n",
    "    def forward(self, x):\n",
    "        x = x.reshape(x.size(0), -1, 28, 28)\n",
    "        v = F.relu(self.pool(self.conv1(x)))\n",
    "        v = F.relu(self.pool(self.conv2(v)))\n",
    "        v = F.relu(self.pool(self.conv3(v)))\n",
    "\n",
    "        v = v.view(-1, 256*19*19)\n",
    "        v = F.relu(self.fc1(v))\n",
    "        v = self.fc2(v)\n",
    "\n",
    "        return v\n",
    "        \n",
    "        "
   ]
  },
  {
   "cell_type": "markdown",
   "metadata": {},
   "source": [
    "# Hyperparameters"
   ]
  },
  {
   "cell_type": "code",
   "execution_count": 16,
   "metadata": {
    "execution": {
     "iopub.execute_input": "2024-12-22T12:39:55.712279Z",
     "iopub.status.busy": "2024-12-22T12:39:55.712005Z",
     "iopub.status.idle": "2024-12-22T12:39:55.782648Z",
     "shell.execute_reply": "2024-12-22T12:39:55.781738Z",
     "shell.execute_reply.started": "2024-12-22T12:39:55.712258Z"
    },
    "trusted": true
   },
   "outputs": [],
   "source": [
    "num_epochs = 30\n",
    "lr = 0.01\n",
    "device = \"cuda\" if torch.cuda.is_available() else \"cpu\"\n",
    "loss = torch.nn.CrossEntropyLoss()\n",
    "\n",
    "model = CustomModel(784, 10).to(device)\n",
    "\n",
    "optimizer = torch.optim.Adam(model.parameters(), lr=lr)"
   ]
  },
  {
   "cell_type": "markdown",
   "metadata": {},
   "source": [
    "# Main Loop\n",
    "\n",
    "Where the action is..."
   ]
  },
  {
   "cell_type": "code",
   "execution_count": 17,
   "metadata": {
    "execution": {
     "iopub.execute_input": "2024-12-22T12:39:57.699262Z",
     "iopub.status.busy": "2024-12-22T12:39:57.698977Z",
     "iopub.status.idle": "2024-12-22T12:44:44.395114Z",
     "shell.execute_reply": "2024-12-22T12:44:44.394110Z",
     "shell.execute_reply.started": "2024-12-22T12:39:57.699240Z"
    },
    "trusted": true
   },
   "outputs": [
    {
     "name": "stdout",
     "output_type": "stream",
     "text": [
      "Epoch 0/29\n",
      "----------\n",
      "Performance measure:  96.4047619047619\n",
      "Current Best is epoch 0 with 96.4047619047619 %\n",
      "Epoch 1/29\n",
      "----------\n",
      "Performance measure:  97.05952380952381\n",
      "Current Best is epoch 1 with 97.05952380952381 %\n",
      "Epoch 2/29\n",
      "----------\n",
      "Performance measure:  97.63095238095238\n",
      "Current Best is epoch 2 with 97.63095238095238 %\n",
      "Epoch 3/29\n",
      "----------\n",
      "Performance measure:  96.75\n",
      "Epoch 4/29\n",
      "----------\n",
      "Performance measure:  97.98809523809524\n",
      "Current Best is epoch 4 with 97.98809523809524 %\n",
      "Epoch 5/29\n",
      "----------\n",
      "Performance measure:  98.25\n",
      "Current Best is epoch 5 with 98.25 %\n",
      "Epoch 6/29\n",
      "----------\n",
      "Performance measure:  98.29761904761905\n",
      "Current Best is epoch 6 with 98.29761904761905 %\n",
      "Epoch 7/29\n",
      "----------\n",
      "Performance measure:  98.07142857142857\n",
      "Epoch 8/29\n",
      "----------\n",
      "Performance measure:  98.27380952380952\n",
      "Epoch 9/29\n",
      "----------\n",
      "Performance measure:  97.94047619047619\n",
      "Epoch 10/29\n",
      "----------\n",
      "Performance measure:  98.27380952380952\n",
      "Epoch 11/29\n",
      "----------\n",
      "Performance measure:  97.88095238095238\n",
      "Epoch 12/29\n",
      "----------\n",
      "Performance measure:  98.20238095238095\n",
      "Epoch 13/29\n",
      "----------\n",
      "Performance measure:  98.27380952380952\n",
      "Epoch 14/29\n",
      "----------\n",
      "Performance measure:  97.75\n",
      "Epoch 15/29\n",
      "----------\n",
      "Performance measure:  98.02380952380952\n",
      "Epoch 16/29\n",
      "----------\n",
      "Performance measure:  97.83333333333334\n",
      "Epoch 17/29\n",
      "----------\n",
      "Performance measure:  98.19047619047619\n",
      "Epoch 18/29\n",
      "----------\n",
      "Performance measure:  98.07142857142857\n",
      "Epoch 19/29\n",
      "----------\n",
      "Performance measure:  97.61904761904762\n",
      "Epoch 20/29\n",
      "----------\n",
      "Performance measure:  98.20238095238095\n",
      "Epoch 21/29\n",
      "----------\n",
      "Performance measure:  98.21428571428571\n",
      "Epoch 22/29\n",
      "----------\n",
      "Performance measure:  98.07142857142857\n",
      "Epoch 23/29\n",
      "----------\n",
      "Performance measure:  98.11904761904762\n",
      "Epoch 24/29\n",
      "----------\n",
      "Performance measure:  97.30952380952381\n",
      "Epoch 25/29\n",
      "----------\n",
      "Performance measure:  98.03571428571428\n",
      "Epoch 26/29\n",
      "----------\n",
      "Performance measure:  98.04761904761905\n",
      "Epoch 27/29\n",
      "----------\n",
      "Performance measure:  97.76190476190476\n",
      "Epoch 28/29\n",
      "----------\n",
      "Performance measure:  98.04761904761905\n",
      "Epoch 29/29\n",
      "----------\n",
      "Performance measure:  98.0\n"
     ]
    }
   ],
   "source": [
    "best_weights, best_measure, best_epoch, train_losses, val_losses = train_modelcv(train_loader,\n",
    "                                                                                 val_loader,\n",
    "                                                                                 model, \n",
    "                                                                                 loss, \n",
    "                                                                                 optimizer,\n",
    "                                                                                 num_epochs,\n",
    "                                                                                 device)\n",
    "\n",
    "                                                                                 "
   ]
  },
  {
   "cell_type": "markdown",
   "metadata": {},
   "source": [
    "# Plot training and validation loss"
   ]
  },
  {
   "cell_type": "code",
   "execution_count": 25,
   "metadata": {},
   "outputs": [],
   "source": [
    "def plot_train_val_loss(train_loss, val_loss):\n",
    "    # get average loss for training and validation\n",
    "    t_losses = [np.mean(i) for i in train_loss]\n",
    "    v_losses = [np.mean(i) for i in val_loss]\n",
    "    plt.plot(t_losses, label='train loss')\n",
    "    plt.plot(v_losses, label='val loss')\n",
    "    plt.legend()\n",
    "    plt.show()"
   ]
  },
  {
   "cell_type": "code",
   "execution_count": 26,
   "metadata": {},
   "outputs": [
    {
     "data": {
      "image/png": "[encoded data removed]",
      "text/plain": [
       "<Figure size 640x480 with 1 Axes>"
      ]
     },
     "metadata": {},
     "output_type": "display_data"
    }
   ],
   "source": [
    "plot_train_val_loss(train_losses, val_losses)"
   ]
  },
  {
   "cell_type": "code",
   "execution_count": 27,
   "metadata": {
    "execution": {
     "iopub.execute_input": "2024-12-22T12:55:37.778564Z",
     "iopub.status.busy": "2024-12-22T12:55:37.778233Z",
     "iopub.status.idle": "2024-12-22T12:55:40.208833Z",
     "shell.execute_reply": "2024-12-22T12:55:40.208119Z",
     "shell.execute_reply.started": "2024-12-22T12:55:37.778501Z"
    },
    "trusted": true
   },
   "outputs": [
    {
     "data": {
      "text/html": [
       "<div>\n",
       "<style scoped>\n",
       "    .dataframe tbody tr th:only-of-type {\n",
       "        vertical-align: middle;\n",
       "    }\n",
       "\n",
       "    .dataframe tbody tr th {\n",
       "        vertical-align: top;\n",
       "    }\n",
       "\n",
       "    .dataframe thead th {\n",
       "        text-align: right;\n",
       "    }\n",
       "</style>\n",
       "<table border=\"1\" class=\"dataframe\">\n",
       "  <thead>\n",
       "    <tr style=\"text-align: right;\">\n",
       "      <th></th>\n",
       "      <th>ImageId</th>\n",
       "      <th>Label</th>\n",
       "    </tr>\n",
       "  </thead>\n",
       "  <tbody>\n",
       "    <tr>\n",
       "      <th>0</th>\n",
       "      <td>1</td>\n",
       "      <td>2</td>\n",
       "    </tr>\n",
       "    <tr>\n",
       "      <th>1</th>\n",
       "      <td>2</td>\n",
       "      <td>0</td>\n",
       "    </tr>\n",
       "    <tr>\n",
       "      <th>2</th>\n",
       "      <td>3</td>\n",
       "      <td>9</td>\n",
       "    </tr>\n",
       "    <tr>\n",
       "      <th>3</th>\n",
       "      <td>4</td>\n",
       "      <td>0</td>\n",
       "    </tr>\n",
       "    <tr>\n",
       "      <th>4</th>\n",
       "      <td>5</td>\n",
       "      <td>3</td>\n",
       "    </tr>\n",
       "  </tbody>\n",
       "</table>\n",
       "</div>"
      ],
      "text/plain": [
       "   ImageId  Label\n",
       "0        1      2\n",
       "1        2      0\n",
       "2        3      9\n",
       "3        4      0\n",
       "4        5      3"
      ]
     },
     "execution_count": 27,
     "metadata": {},
     "output_type": "execute_result"
    }
   ],
   "source": [
    "# load model with best weights\n",
    "model.load_state_dict(best_weights)\n",
    "model.eval()\n",
    "predictions = []\n",
    "with torch.no_grad():\n",
    "    for features in test_loader:\n",
    "        features = features[0].to(device)\n",
    "        outputs = model(features)\n",
    "\n",
    "        _, preds = torch.max(outputs, dim=1)\n",
    "        predictions.extend(preds.cpu().numpy())\n",
    "\n",
    "image_id = [i for i in range(1, len(predictions)+1)]\n",
    "submission_df = pd.DataFrame({\n",
    "    \"ImageId\": image_id,\n",
    "    \"Label\": predictions\n",
    "})\n",
    "\n",
    "submission_df.head()"
   ]
  },
  {
   "cell_type": "code",
   "execution_count": 28,
   "metadata": {
    "execution": {
     "iopub.execute_input": "2024-12-22T12:58:15.409157Z",
     "iopub.status.busy": "2024-12-22T12:58:15.408859Z",
     "iopub.status.idle": "2024-12-22T12:58:15.431655Z",
     "shell.execute_reply": "2024-12-22T12:58:15.430746Z",
     "shell.execute_reply.started": "2024-12-22T12:58:15.409135Z"
    },
    "trusted": true
   },
   "outputs": [],
   "source": [
    "submission_df.to_csv(\"../data/submission1.csv\", index=False)"
   ]
  }
 ],
 "metadata": {
  "kaggle": {
   "accelerator": "nvidiaTeslaT4",
   "dataSources": [
    {
     "databundleVersionId": 861823,
     "sourceId": 3004,
     "sourceType": "competition"
    }
   ],
   "dockerImageVersionId": 30823,
   "isGpuEnabled": true,
   "isInternetEnabled": true,
   "language": "python",
   "sourceType": "notebook"
  },
  "kernelspec": {
   "display_name": "Python 3",
   "language": "python",
   "name": "python3"
  },
  "language_info": {
   "codemirror_mode": {
    "name": "ipython",
    "version": 3
   },
   "file_extension": ".py",
   "mimetype": "text/x-python",
   "name": "python",
   "nbconvert_exporter": "python",
   "pygments_lexer": "ipython3",
   "version": "3.11.5"
  }
 },
 "nbformat": 4,
 "nbformat_minor": 4
}
