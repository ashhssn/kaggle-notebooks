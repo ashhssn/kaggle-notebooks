{
  "nbformat": 4,
  "nbformat_minor": 0,
  "metadata": {
    "colab": {
      "provenance": [],
      "gpuType": "T4"
    },
    "kernelspec": {
      "name": "python3",
      "display_name": "Python 3"
    },
    "language_info": {
      "name": "python"
    },
    "accelerator": "GPU",
    "widgets": {
      "application/vnd.jupyter.widget-state+json": {
        "39393a0aebc3456092988fef23dbf98d": {
          "model_module": "@jupyter-widgets/controls",
          "model_name": "HBoxModel",
          "model_module_version": "1.5.0",
          "state": {
            "_dom_classes": [],
            "_model_module": "@jupyter-widgets/controls",
            "_model_module_version": "1.5.0",
            "_model_name": "HBoxModel",
            "_view_count": null,
            "_view_module": "@jupyter-widgets/controls",
            "_view_module_version": "1.5.0",
            "_view_name": "HBoxView",
            "box_style": "",
            "children": [
              "IPY_MODEL_404758f33a9940b2ab963210f85c3055",
              "IPY_MODEL_c181b6223d6249b299d6ede9a4ef4654",
              "IPY_MODEL_15f5f587cd1f406c85fd30cbd6b36b24"
            ],
            "layout": "IPY_MODEL_785fac6a1fdd40188d99b0883b6af7f5"
          }
        },
        "404758f33a9940b2ab963210f85c3055": {
          "model_module": "@jupyter-widgets/controls",
          "model_name": "HTMLModel",
          "model_module_version": "1.5.0",
          "state": {
            "_dom_classes": [],
            "_model_module": "@jupyter-widgets/controls",
            "_model_module_version": "1.5.0",
            "_model_name": "HTMLModel",
            "_view_count": null,
            "_view_module": "@jupyter-widgets/controls",
            "_view_module_version": "1.5.0",
            "_view_name": "HTMLView",
            "description": "",
            "description_tooltip": null,
            "layout": "IPY_MODEL_54487d140fef454081bf46d6de24fce5",
            "placeholder": "​",
            "style": "IPY_MODEL_08492f0d54484e14985847fb55bf2e42",
            "value": "config.json: "
          }
        },
        "c181b6223d6249b299d6ede9a4ef4654": {
          "model_module": "@jupyter-widgets/controls",
          "model_name": "FloatProgressModel",
          "model_module_version": "1.5.0",
          "state": {
            "_dom_classes": [],
            "_model_module": "@jupyter-widgets/controls",
            "_model_module_version": "1.5.0",
            "_model_name": "FloatProgressModel",
            "_view_count": null,
            "_view_module": "@jupyter-widgets/controls",
            "_view_module_version": "1.5.0",
            "_view_name": "ProgressView",
            "bar_style": "success",
            "description": "",
            "description_tooltip": null,
            "layout": "IPY_MODEL_cec7a620b2d943ecabf1d916180223d9",
            "max": 1,
            "min": 0,
            "orientation": "horizontal",
            "style": "IPY_MODEL_659e831447e3433db16adb1beccf834e",
            "value": 1
          }
        },
        "15f5f587cd1f406c85fd30cbd6b36b24": {
          "model_module": "@jupyter-widgets/controls",
          "model_name": "HTMLModel",
          "model_module_version": "1.5.0",
          "state": {
            "_dom_classes": [],
            "_model_module": "@jupyter-widgets/controls",
            "_model_module_version": "1.5.0",
            "_model_name": "HTMLModel",
            "_view_count": null,
            "_view_module": "@jupyter-widgets/controls",
            "_view_module_version": "1.5.0",
            "_view_name": "HTMLView",
            "description": "",
            "description_tooltip": null,
            "layout": "IPY_MODEL_113b423bfdfd49f4b26482c3716d9fa6",
            "placeholder": "​",
            "style": "IPY_MODEL_6c439baaaef54afe95f6134407d72882",
            "value": " 69.7k/? [00:00&lt;00:00, 3.95MB/s]"
          }
        },
        "785fac6a1fdd40188d99b0883b6af7f5": {
          "model_module": "@jupyter-widgets/base",
          "model_name": "LayoutModel",
          "model_module_version": "1.2.0",
          "state": {
            "_model_module": "@jupyter-widgets/base",
            "_model_module_version": "1.2.0",
            "_model_name": "LayoutModel",
            "_view_count": null,
            "_view_module": "@jupyter-widgets/base",
            "_view_module_version": "1.2.0",
            "_view_name": "LayoutView",
            "align_content": null,
            "align_items": null,
            "align_self": null,
            "border": null,
            "bottom": null,
            "display": null,
            "flex": null,
            "flex_flow": null,
            "grid_area": null,
            "grid_auto_columns": null,
            "grid_auto_flow": null,
            "grid_auto_rows": null,
            "grid_column": null,
            "grid_gap": null,
            "grid_row": null,
            "grid_template_areas": null,
            "grid_template_columns": null,
            "grid_template_rows": null,
            "height": null,
            "justify_content": null,
            "justify_items": null,
            "left": null,
            "margin": null,
            "max_height": null,
            "max_width": null,
            "min_height": null,
            "min_width": null,
            "object_fit": null,
            "object_position": null,
            "order": null,
            "overflow": null,
            "overflow_x": null,
            "overflow_y": null,
            "padding": null,
            "right": null,
            "top": null,
            "visibility": null,
            "width": null
          }
        },
        "54487d140fef454081bf46d6de24fce5": {
          "model_module": "@jupyter-widgets/base",
          "model_name": "LayoutModel",
          "model_module_version": "1.2.0",
          "state": {
            "_model_module": "@jupyter-widgets/base",
            "_model_module_version": "1.2.0",
            "_model_name": "LayoutModel",
            "_view_count": null,
            "_view_module": "@jupyter-widgets/base",
            "_view_module_version": "1.2.0",
            "_view_name": "LayoutView",
            "align_content": null,
            "align_items": null,
            "align_self": null,
            "border": null,
            "bottom": null,
            "display": null,
            "flex": null,
            "flex_flow": null,
            "grid_area": null,
            "grid_auto_columns": null,
            "grid_auto_flow": null,
            "grid_auto_rows": null,
            "grid_column": null,
            "grid_gap": null,
            "grid_row": null,
            "grid_template_areas": null,
            "grid_template_columns": null,
            "grid_template_rows": null,
            "height": null,
            "justify_content": null,
            "justify_items": null,
            "left": null,
            "margin": null,
            "max_height": null,
            "max_width": null,
            "min_height": null,
            "min_width": null,
            "object_fit": null,
            "object_position": null,
            "order": null,
            "overflow": null,
            "overflow_x": null,
            "overflow_y": null,
            "padding": null,
            "right": null,
            "top": null,
            "visibility": null,
            "width": null
          }
        },
        "08492f0d54484e14985847fb55bf2e42": {
          "model_module": "@jupyter-widgets/controls",
          "model_name": "DescriptionStyleModel",
          "model_module_version": "1.5.0",
          "state": {
            "_model_module": "@jupyter-widgets/controls",
            "_model_module_version": "1.5.0",
            "_model_name": "DescriptionStyleModel",
            "_view_count": null,
            "_view_module": "@jupyter-widgets/base",
            "_view_module_version": "1.2.0",
            "_view_name": "StyleView",
            "description_width": ""
          }
        },
        "cec7a620b2d943ecabf1d916180223d9": {
          "model_module": "@jupyter-widgets/base",
          "model_name": "LayoutModel",
          "model_module_version": "1.2.0",
          "state": {
            "_model_module": "@jupyter-widgets/base",
            "_model_module_version": "1.2.0",
            "_model_name": "LayoutModel",
            "_view_count": null,
            "_view_module": "@jupyter-widgets/base",
            "_view_module_version": "1.2.0",
            "_view_name": "LayoutView",
            "align_content": null,
            "align_items": null,
            "align_self": null,
            "border": null,
            "bottom": null,
            "display": null,
            "flex": null,
            "flex_flow": null,
            "grid_area": null,
            "grid_auto_columns": null,
            "grid_auto_flow": null,
            "grid_auto_rows": null,
            "grid_column": null,
            "grid_gap": null,
            "grid_row": null,
            "grid_template_areas": null,
            "grid_template_columns": null,
            "grid_template_rows": null,
            "height": null,
            "justify_content": null,
            "justify_items": null,
            "left": null,
            "margin": null,
            "max_height": null,
            "max_width": null,
            "min_height": null,
            "min_width": null,
            "object_fit": null,
            "object_position": null,
            "order": null,
            "overflow": null,
            "overflow_x": null,
            "overflow_y": null,
            "padding": null,
            "right": null,
            "top": null,
            "visibility": null,
            "width": "20px"
          }
        },
        "659e831447e3433db16adb1beccf834e": {
          "model_module": "@jupyter-widgets/controls",
          "model_name": "ProgressStyleModel",
          "model_module_version": "1.5.0",
          "state": {
            "_model_module": "@jupyter-widgets/controls",
            "_model_module_version": "1.5.0",
            "_model_name": "ProgressStyleModel",
            "_view_count": null,
            "_view_module": "@jupyter-widgets/base",
            "_view_module_version": "1.2.0",
            "_view_name": "StyleView",
            "bar_color": null,
            "description_width": ""
          }
        },
        "113b423bfdfd49f4b26482c3716d9fa6": {
          "model_module": "@jupyter-widgets/base",
          "model_name": "LayoutModel",
          "model_module_version": "1.2.0",
          "state": {
            "_model_module": "@jupyter-widgets/base",
            "_model_module_version": "1.2.0",
            "_model_name": "LayoutModel",
            "_view_count": null,
            "_view_module": "@jupyter-widgets/base",
            "_view_module_version": "1.2.0",
            "_view_name": "LayoutView",
            "align_content": null,
            "align_items": null,
            "align_self": null,
            "border": null,
            "bottom": null,
            "display": null,
            "flex": null,
            "flex_flow": null,
            "grid_area": null,
            "grid_auto_columns": null,
            "grid_auto_flow": null,
            "grid_auto_rows": null,
            "grid_column": null,
            "grid_gap": null,
            "grid_row": null,
            "grid_template_areas": null,
            "grid_template_columns": null,
            "grid_template_rows": null,
            "height": null,
            "justify_content": null,
            "justify_items": null,
            "left": null,
            "margin": null,
            "max_height": null,
            "max_width": null,
            "min_height": null,
            "min_width": null,
            "object_fit": null,
            "object_position": null,
            "order": null,
            "overflow": null,
            "overflow_x": null,
            "overflow_y": null,
            "padding": null,
            "right": null,
            "top": null,
            "visibility": null,
            "width": null
          }
        },
        "6c439baaaef54afe95f6134407d72882": {
          "model_module": "@jupyter-widgets/controls",
          "model_name": "DescriptionStyleModel",
          "model_module_version": "1.5.0",
          "state": {
            "_model_module": "@jupyter-widgets/controls",
            "_model_module_version": "1.5.0",
            "_model_name": "DescriptionStyleModel",
            "_view_count": null,
            "_view_module": "@jupyter-widgets/base",
            "_view_module_version": "1.2.0",
            "_view_name": "StyleView",
            "description_width": ""
          }
        },
        "e7b2651a5ec149628704ad9dccc495df": {
          "model_module": "@jupyter-widgets/controls",
          "model_name": "HBoxModel",
          "model_module_version": "1.5.0",
          "state": {
            "_dom_classes": [],
            "_model_module": "@jupyter-widgets/controls",
            "_model_module_version": "1.5.0",
            "_model_name": "HBoxModel",
            "_view_count": null,
            "_view_module": "@jupyter-widgets/controls",
            "_view_module_version": "1.5.0",
            "_view_name": "HBoxView",
            "box_style": "",
            "children": [
              "IPY_MODEL_1ab62d04ccf84bba9210c738b1b6f1ca",
              "IPY_MODEL_b92fbc8138624558b838f693ae1a1b8f",
              "IPY_MODEL_7a0c6bbc6d2649d5a057a6b835502c72"
            ],
            "layout": "IPY_MODEL_cd8e732e68f44741a3ddabcd94812ff8"
          }
        },
        "1ab62d04ccf84bba9210c738b1b6f1ca": {
          "model_module": "@jupyter-widgets/controls",
          "model_name": "HTMLModel",
          "model_module_version": "1.5.0",
          "state": {
            "_dom_classes": [],
            "_model_module": "@jupyter-widgets/controls",
            "_model_module_version": "1.5.0",
            "_model_name": "HTMLModel",
            "_view_count": null,
            "_view_module": "@jupyter-widgets/controls",
            "_view_module_version": "1.5.0",
            "_view_name": "HTMLView",
            "description": "",
            "description_tooltip": null,
            "layout": "IPY_MODEL_1943fc133bea4334be8a1a300f01c405",
            "placeholder": "​",
            "style": "IPY_MODEL_d0622d323a7a4705b4a391ebf9466ed0",
            "value": "model.safetensors: 100%"
          }
        },
        "b92fbc8138624558b838f693ae1a1b8f": {
          "model_module": "@jupyter-widgets/controls",
          "model_name": "FloatProgressModel",
          "model_module_version": "1.5.0",
          "state": {
            "_dom_classes": [],
            "_model_module": "@jupyter-widgets/controls",
            "_model_module_version": "1.5.0",
            "_model_name": "FloatProgressModel",
            "_view_count": null,
            "_view_module": "@jupyter-widgets/controls",
            "_view_module_version": "1.5.0",
            "_view_name": "ProgressView",
            "bar_style": "success",
            "description": "",
            "description_tooltip": null,
            "layout": "IPY_MODEL_69457ab8a2da4af89b3ddb7637f9def7",
            "max": 346293852,
            "min": 0,
            "orientation": "horizontal",
            "style": "IPY_MODEL_a3e9d542c9624546b05c499bbc8a3f4b",
            "value": 346293852
          }
        },
        "7a0c6bbc6d2649d5a057a6b835502c72": {
          "model_module": "@jupyter-widgets/controls",
          "model_name": "HTMLModel",
          "model_module_version": "1.5.0",
          "state": {
            "_dom_classes": [],
            "_model_module": "@jupyter-widgets/controls",
            "_model_module_version": "1.5.0",
            "_model_name": "HTMLModel",
            "_view_count": null,
            "_view_module": "@jupyter-widgets/controls",
            "_view_module_version": "1.5.0",
            "_view_name": "HTMLView",
            "description": "",
            "description_tooltip": null,
            "layout": "IPY_MODEL_07af9803274a4415bd4697a6ea002638",
            "placeholder": "​",
            "style": "IPY_MODEL_79109694918f484bacbcdd4999b9aa53",
            "value": " 346M/346M [00:05&lt;00:00, 93.8MB/s]"
          }
        },
        "cd8e732e68f44741a3ddabcd94812ff8": {
          "model_module": "@jupyter-widgets/base",
          "model_name": "LayoutModel",
          "model_module_version": "1.2.0",
          "state": {
            "_model_module": "@jupyter-widgets/base",
            "_model_module_version": "1.2.0",
            "_model_name": "LayoutModel",
            "_view_count": null,
            "_view_module": "@jupyter-widgets/base",
            "_view_module_version": "1.2.0",
            "_view_name": "LayoutView",
            "align_content": null,
            "align_items": null,
            "align_self": null,
            "border": null,
            "bottom": null,
            "display": null,
            "flex": null,
            "flex_flow": null,
            "grid_area": null,
            "grid_auto_columns": null,
            "grid_auto_flow": null,
            "grid_auto_rows": null,
            "grid_column": null,
            "grid_gap": null,
            "grid_row": null,
            "grid_template_areas": null,
            "grid_template_columns": null,
            "grid_template_rows": null,
            "height": null,
            "justify_content": null,
            "justify_items": null,
            "left": null,
            "margin": null,
            "max_height": null,
            "max_width": null,
            "min_height": null,
            "min_width": null,
            "object_fit": null,
            "object_position": null,
            "order": null,
            "overflow": null,
            "overflow_x": null,
            "overflow_y": null,
            "padding": null,
            "right": null,
            "top": null,
            "visibility": null,
            "width": null
          }
        },
        "1943fc133bea4334be8a1a300f01c405": {
          "model_module": "@jupyter-widgets/base",
          "model_name": "LayoutModel",
          "model_module_version": "1.2.0",
          "state": {
            "_model_module": "@jupyter-widgets/base",
            "_model_module_version": "1.2.0",
            "_model_name": "LayoutModel",
            "_view_count": null,
            "_view_module": "@jupyter-widgets/base",
            "_view_module_version": "1.2.0",
            "_view_name": "LayoutView",
            "align_content": null,
            "align_items": null,
            "align_self": null,
            "border": null,
            "bottom": null,
            "display": null,
            "flex": null,
            "flex_flow": null,
            "grid_area": null,
            "grid_auto_columns": null,
            "grid_auto_flow": null,
            "grid_auto_rows": null,
            "grid_column": null,
            "grid_gap": null,
            "grid_row": null,
            "grid_template_areas": null,
            "grid_template_columns": null,
            "grid_template_rows": null,
            "height": null,
            "justify_content": null,
            "justify_items": null,
            "left": null,
            "margin": null,
            "max_height": null,
            "max_width": null,
            "min_height": null,
            "min_width": null,
            "object_fit": null,
            "object_position": null,
            "order": null,
            "overflow": null,
            "overflow_x": null,
            "overflow_y": null,
            "padding": null,
            "right": null,
            "top": null,
            "visibility": null,
            "width": null
          }
        },
        "d0622d323a7a4705b4a391ebf9466ed0": {
          "model_module": "@jupyter-widgets/controls",
          "model_name": "DescriptionStyleModel",
          "model_module_version": "1.5.0",
          "state": {
            "_model_module": "@jupyter-widgets/controls",
            "_model_module_version": "1.5.0",
            "_model_name": "DescriptionStyleModel",
            "_view_count": null,
            "_view_module": "@jupyter-widgets/base",
            "_view_module_version": "1.2.0",
            "_view_name": "StyleView",
            "description_width": ""
          }
        },
        "69457ab8a2da4af89b3ddb7637f9def7": {
          "model_module": "@jupyter-widgets/base",
          "model_name": "LayoutModel",
          "model_module_version": "1.2.0",
          "state": {
            "_model_module": "@jupyter-widgets/base",
            "_model_module_version": "1.2.0",
            "_model_name": "LayoutModel",
            "_view_count": null,
            "_view_module": "@jupyter-widgets/base",
            "_view_module_version": "1.2.0",
            "_view_name": "LayoutView",
            "align_content": null,
            "align_items": null,
            "align_self": null,
            "border": null,
            "bottom": null,
            "display": null,
            "flex": null,
            "flex_flow": null,
            "grid_area": null,
            "grid_auto_columns": null,
            "grid_auto_flow": null,
            "grid_auto_rows": null,
            "grid_column": null,
            "grid_gap": null,
            "grid_row": null,
            "grid_template_areas": null,
            "grid_template_columns": null,
            "grid_template_rows": null,
            "height": null,
            "justify_content": null,
            "justify_items": null,
            "left": null,
            "margin": null,
            "max_height": null,
            "max_width": null,
            "min_height": null,
            "min_width": null,
            "object_fit": null,
            "object_position": null,
            "order": null,
            "overflow": null,
            "overflow_x": null,
            "overflow_y": null,
            "padding": null,
            "right": null,
            "top": null,
            "visibility": null,
            "width": null
          }
        },
        "a3e9d542c9624546b05c499bbc8a3f4b": {
          "model_module": "@jupyter-widgets/controls",
          "model_name": "ProgressStyleModel",
          "model_module_version": "1.5.0",
          "state": {
            "_model_module": "@jupyter-widgets/controls",
            "_model_module_version": "1.5.0",
            "_model_name": "ProgressStyleModel",
            "_view_count": null,
            "_view_module": "@jupyter-widgets/base",
            "_view_module_version": "1.2.0",
            "_view_name": "StyleView",
            "bar_color": null,
            "description_width": ""
          }
        },
        "07af9803274a4415bd4697a6ea002638": {
          "model_module": "@jupyter-widgets/base",
          "model_name": "LayoutModel",
          "model_module_version": "1.2.0",
          "state": {
            "_model_module": "@jupyter-widgets/base",
            "_model_module_version": "1.2.0",
            "_model_name": "LayoutModel",
            "_view_count": null,
            "_view_module": "@jupyter-widgets/base",
            "_view_module_version": "1.2.0",
            "_view_name": "LayoutView",
            "align_content": null,
            "align_items": null,
            "align_self": null,
            "border": null,
            "bottom": null,
            "display": null,
            "flex": null,
            "flex_flow": null,
            "grid_area": null,
            "grid_auto_columns": null,
            "grid_auto_flow": null,
            "grid_auto_rows": null,
            "grid_column": null,
            "grid_gap": null,
            "grid_row": null,
            "grid_template_areas": null,
            "grid_template_columns": null,
            "grid_template_rows": null,
            "height": null,
            "justify_content": null,
            "justify_items": null,
            "left": null,
            "margin": null,
            "max_height": null,
            "max_width": null,
            "min_height": null,
            "min_width": null,
            "object_fit": null,
            "object_position": null,
            "order": null,
            "overflow": null,
            "overflow_x": null,
            "overflow_y": null,
            "padding": null,
            "right": null,
            "top": null,
            "visibility": null,
            "width": null
          }
        },
        "79109694918f484bacbcdd4999b9aa53": {
          "model_module": "@jupyter-widgets/controls",
          "model_name": "DescriptionStyleModel",
          "model_module_version": "1.5.0",
          "state": {
            "_model_module": "@jupyter-widgets/controls",
            "_model_module_version": "1.5.0",
            "_model_name": "DescriptionStyleModel",
            "_view_count": null,
            "_view_module": "@jupyter-widgets/base",
            "_view_module_version": "1.2.0",
            "_view_name": "StyleView",
            "description_width": ""
          }
        }
      }
    }
  },
  "cells": [
    {
      "cell_type": "code",
      "execution_count": 1,
      "metadata": {
        "id": "Ah8GCGCgpTGy"
      },
      "outputs": [],
      "source": [
        "# import packages\n",
        "import pandas as pd\n",
        "import numpy as np\n",
        "import torch\n",
        "import torch.nn as nn\n",
        "import torchvision.models as models\n",
        "from torchvision import transforms, datasets\n",
        "from torch.utils.data import DataLoader, Dataset, Subset\n",
        "from sklearn.model_selection import train_test_split\n",
        "import transformers"
      ]
    },
    {
      "cell_type": "code",
      "source": [
        "# seeds\n",
        "SEED = 42\n",
        "np.random.seed(SEED)\n",
        "torch.manual_seed(SEED)\n",
        "torch.cuda.manual_seed(SEED)\n",
        "\n",
        "# configurations\n",
        "DEVICE = \"cuda\" if torch.cuda.is_available() else \"cpu\"\n",
        "BATCH_SIZE = 128\n",
        "LR = 1e-3\n",
        "EPOCHS = 10\n"
      ],
      "metadata": {
        "id": "l4BsiG9Xp2sI"
      },
      "execution_count": 2,
      "outputs": []
    },
    {
      "cell_type": "markdown",
      "source": [
        "## Load and Prepare Data"
      ],
      "metadata": {
        "id": "MFCrOKvWqoUz"
      }
    },
    {
      "cell_type": "code",
      "source": [
        "# transformations\n",
        "\n",
        "train_tfms = transforms.Compose([\n",
        "    transforms.Resize((224, 224)),\n",
        "    transforms.RandomCrop(224),\n",
        "    transforms.RandomHorizontalFlip(),\n",
        "    transforms.ToTensor(),\n",
        "    transforms.Normalize((0.485, 0.456, 0.406), (0.229, 0.224, 0.225))\n",
        "])\n",
        "\n",
        "test_tfms = transforms.Compose([\n",
        "    transforms.Resize((224, 224)),\n",
        "    transforms.ToTensor(),\n",
        "    transforms.Normalize((0.485, 0.456, 0.406), (0.229, 0.224, 0.225))\n",
        "])\n",
        "\n"
      ],
      "metadata": {
        "id": "ArHbtq7Fqnxa"
      },
      "execution_count": 3,
      "outputs": []
    },
    {
      "cell_type": "code",
      "source": [
        "# load the dataset\n",
        "\n",
        "full_trainset = datasets.CIFAR10(root=\"./data\", train=True, download=True, transform=train_tfms)\n",
        "# get train-val split indices\n",
        "targets = np.array(full_trainset.targets)\n",
        "train_idx, val_idx = train_test_split(np.arange(len(targets)),\n",
        "                                      test_size=0.2,\n",
        "                                      stratify=targets,\n",
        "                                      random_state=SEED)\n",
        "\n",
        "# get val set base with test_tfms, split later\n",
        "full_valset = datasets.CIFAR10(root=\"./data\", train=True, download=True, transform=test_tfms)\n",
        "\n",
        "# perform split using subset\n",
        "train_ds = Subset(full_trainset, train_idx)\n",
        "val_ds = Subset(full_valset, val_idx)\n",
        "\n",
        "# Sanity check\n",
        "print(f\"Length of train_ds: {len(train_ds)} \\t Length of val_ds: {len(val_ds)}\")"
      ],
      "metadata": {
        "colab": {
          "base_uri": "https://localhost:8080/"
        },
        "id": "xjmmIIPwrlVh",
        "outputId": "13bbb31b-a54f-4b86-dd2c-52ca62d19d1d"
      },
      "execution_count": 4,
      "outputs": [
        {
          "output_type": "stream",
          "name": "stderr",
          "text": [
            "100%|██████████| 170M/170M [00:13<00:00, 13.1MB/s]\n"
          ]
        },
        {
          "output_type": "stream",
          "name": "stdout",
          "text": [
            "Length of train_ds: 40000 \t Length of val_ds: 10000\n"
          ]
        }
      ]
    },
    {
      "cell_type": "code",
      "source": [
        "# dataloader\n",
        "\n",
        "train_loader = DataLoader(train_ds, batch_size=BATCH_SIZE, shuffle=True, num_workers=2)\n",
        "val_loader = DataLoader(val_ds, batch_size=BATCH_SIZE, shuffle=False, num_workers=2)"
      ],
      "metadata": {
        "id": "VnKI7cM0vfRE"
      },
      "execution_count": 5,
      "outputs": []
    },
    {
      "cell_type": "markdown",
      "source": [
        "## Create a Custom Model Class using ViT"
      ],
      "metadata": {
        "id": "yHCjqN77s-kf"
      }
    },
    {
      "cell_type": "code",
      "source": [
        "from transformers import ViTForImageClassification\n",
        "from PIL import Image\n",
        "class CustomModel(nn.Module):\n",
        "\n",
        "    def __init__(self, backbone_model='google/vit-base-patch16-224', num_cls=10, freeze_backbone=False):\n",
        "        super().__init__()\n",
        "        self.model = ViTForImageClassification.from_pretrained(backbone_model,\n",
        "                                                               num_labels=num_cls,\n",
        "                                                               problem_type=\"single_label_classification\",\n",
        "                                                               ignore_mismatched_sizes=True)\n",
        "        if freeze_backbone:\n",
        "            for name, p in self.model.named_parameters():\n",
        "                if not name.startswith(\"classifier\"):\n",
        "                    p.requires_grad = False\n",
        "\n",
        "    def forward(self, x, y):\n",
        "        # will calculate loss internally and return multiple outputs\n",
        "        return self.model(pixel_values=x, labels=y.long())"
      ],
      "metadata": {
        "id": "WnUwwJuVsw-c"
      },
      "execution_count": 6,
      "outputs": []
    },
    {
      "cell_type": "markdown",
      "source": [
        "## Training Loop"
      ],
      "metadata": {
        "id": "wlqIkoa33qrb"
      }
    },
    {
      "cell_type": "code",
      "source": [
        "def train_epoch(model, train_loader, optimizer, device, scaler=None, grad_clip=1.0):\n",
        "    model.train()\n",
        "    # save losses to plot later\n",
        "    losses = []\n",
        "\n",
        "    for features, labels in train_loader:\n",
        "        features, labels = features.to(device), labels.to(device)\n",
        "        optimizer.zero_grad()\n",
        "\n",
        "        if scaler is not None:\n",
        "            with torch.cuda.amp.autocast():\n",
        "                out = model(features, labels)\n",
        "                loss = out.loss\n",
        "            scaler.scale(loss).backward()\n",
        "            scaler.unscale_(optimizer)\n",
        "            if grad_clip is not None:\n",
        "                torch.nn.utils.clip_grad_norm_(model.parameters(), grad_clip)\n",
        "            scaler.step(optimizer)\n",
        "            scaler.update()\n",
        "\n",
        "        else:\n",
        "            out = model(features, labels)\n",
        "            loss = out.loss\n",
        "            loss.backward()\n",
        "            if grad_clip is not None:\n",
        "                torch.nn.utils.clip_grad_norm_(model.parameters(), grad_clip)\n",
        "            optimizer.step()\n",
        "\n",
        "        losses.append(loss.item())\n",
        "    return losses\n"
      ],
      "metadata": {
        "id": "xhJb5dyk3ppT"
      },
      "execution_count": 7,
      "outputs": []
    },
    {
      "cell_type": "markdown",
      "source": [
        "## Evaluation Loop"
      ],
      "metadata": {
        "id": "aClR0g3t52Zs"
      }
    },
    {
      "cell_type": "code",
      "source": [
        "def evaluate(model, val_loader, device):\n",
        "\n",
        "    model.eval()\n",
        "\n",
        "    with torch.no_grad():\n",
        "        total_correct = 0\n",
        "        total_samples = 0\n",
        "        losses = []\n",
        "\n",
        "        for feat, lab in val_loader:\n",
        "            feat, lab = feat.to(device), lab.to(device)\n",
        "            out = model(feat, lab)\n",
        "\n",
        "            loss = out.loss\n",
        "            losses.append(loss)\n",
        "\n",
        "            logits = out.logits\n",
        "\n",
        "            pred = torch.argmax(logits, dim=1)\n",
        "            total_correct += (pred==lab).sum().item()\n",
        "            total_samples += lab.size(0)\n",
        "        accuracy = total_correct / total_samples * 100\n",
        "\n",
        "    return losses, accuracy\n"
      ],
      "metadata": {
        "id": "gSCJhhdW50Ja"
      },
      "execution_count": 8,
      "outputs": []
    },
    {
      "cell_type": "markdown",
      "source": [
        "## Training + Validation"
      ],
      "metadata": {
        "id": "jYl2LYxe7msE"
      }
    },
    {
      "cell_type": "code",
      "source": [
        "def train_modelcv(train_loader, val_loader, model, device, optimizer, num_epochs, scaler=None):\n",
        "    train_losses = []\n",
        "    val_losses = []\n",
        "    best_measure = 0\n",
        "    best_epoch = -1\n",
        "\n",
        "    for epoch in range(num_epochs):\n",
        "        print(f\"Epoch {epoch+1}/{num_epochs}\")\n",
        "        print(\"-\" * 10)\n",
        "\n",
        "        train_loss = train_epoch(model, train_loader, optimizer, device, scaler)\n",
        "        train_losses.append(train_loss)\n",
        "\n",
        "        val_loss, measure = evaluate(model, val_loader, device)\n",
        "        val_losses.append(val_loss)\n",
        "\n",
        "        print(f\"Performance measure: {measure}\")\n",
        "\n",
        "        if measure > best_measure:\n",
        "            best_weights = model.state_dict()\n",
        "            best_measure = measure\n",
        "            best_epoch = epoch\n",
        "            print(f\"Current best epoch: {best_epoch} with measure: {best_measure}\")\n",
        "\n",
        "\n",
        "    return best_weights, best_measure, best_epoch, train_losses, val_losses"
      ],
      "metadata": {
        "id": "vKZm6JxF7kqi"
      },
      "execution_count": 9,
      "outputs": []
    },
    {
      "cell_type": "code",
      "source": [
        "# configurations\n",
        "\n",
        "scaler = torch.cuda.amp.GradScaler(enabled=(DEVICE == \"cuda\"))\n",
        "model = CustomModel()\n",
        "model.to(DEVICE)\n",
        "optimizer = torch.optim.Adam(model.parameters(), lr=LR)"
      ],
      "metadata": {
        "colab": {
          "base_uri": "https://localhost:8080/",
          "height": 289,
          "referenced_widgets": [
            "39393a0aebc3456092988fef23dbf98d",
            "404758f33a9940b2ab963210f85c3055",
            "c181b6223d6249b299d6ede9a4ef4654",
            "15f5f587cd1f406c85fd30cbd6b36b24",
            "785fac6a1fdd40188d99b0883b6af7f5",
            "54487d140fef454081bf46d6de24fce5",
            "08492f0d54484e14985847fb55bf2e42",
            "cec7a620b2d943ecabf1d916180223d9",
            "659e831447e3433db16adb1beccf834e",
            "113b423bfdfd49f4b26482c3716d9fa6",
            "6c439baaaef54afe95f6134407d72882",
            "e7b2651a5ec149628704ad9dccc495df",
            "1ab62d04ccf84bba9210c738b1b6f1ca",
            "b92fbc8138624558b838f693ae1a1b8f",
            "7a0c6bbc6d2649d5a057a6b835502c72",
            "cd8e732e68f44741a3ddabcd94812ff8",
            "1943fc133bea4334be8a1a300f01c405",
            "d0622d323a7a4705b4a391ebf9466ed0",
            "69457ab8a2da4af89b3ddb7637f9def7",
            "a3e9d542c9624546b05c499bbc8a3f4b",
            "07af9803274a4415bd4697a6ea002638",
            "79109694918f484bacbcdd4999b9aa53"
          ]
        },
        "id": "ojfxD43Y82rB",
        "outputId": "7e8ce133-7307-4bc6-a9ce-e100b8403b0d"
      },
      "execution_count": 10,
      "outputs": [
        {
          "output_type": "stream",
          "name": "stderr",
          "text": [
            "/tmp/ipython-input-612268080.py:3: FutureWarning: `torch.cuda.amp.GradScaler(args...)` is deprecated. Please use `torch.amp.GradScaler('cuda', args...)` instead.\n",
            "  scaler = torch.cuda.amp.GradScaler(enabled=(DEVICE == \"cuda\"))\n",
            "/usr/local/lib/python3.11/dist-packages/huggingface_hub/utils/_auth.py:94: UserWarning: \n",
            "The secret `HF_TOKEN` does not exist in your Colab secrets.\n",
            "To authenticate with the Hugging Face Hub, create a token in your settings tab (https://huggingface.co/settings/tokens), set it as secret in your Google Colab and restart your session.\n",
            "You will be able to reuse this secret in all of your notebooks.\n",
            "Please note that authentication is recommended but still optional to access public models or datasets.\n",
            "  warnings.warn(\n"
          ]
        },
        {
          "output_type": "display_data",
          "data": {
            "text/plain": [
              "config.json: 0.00B [00:00, ?B/s]"
            ],
            "application/vnd.jupyter.widget-view+json": {
              "version_major": 2,
              "version_minor": 0,
              "model_id": "39393a0aebc3456092988fef23dbf98d"
            }
          },
          "metadata": {}
        },
        {
          "output_type": "display_data",
          "data": {
            "text/plain": [
              "model.safetensors:   0%|          | 0.00/346M [00:00<?, ?B/s]"
            ],
            "application/vnd.jupyter.widget-view+json": {
              "version_major": 2,
              "version_minor": 0,
              "model_id": "e7b2651a5ec149628704ad9dccc495df"
            }
          },
          "metadata": {}
        },
        {
          "output_type": "stream",
          "name": "stderr",
          "text": [
            "Some weights of ViTForImageClassification were not initialized from the model checkpoint at google/vit-base-patch16-224 and are newly initialized because the shapes did not match:\n",
            "- classifier.bias: found shape torch.Size([1000]) in the checkpoint and torch.Size([10]) in the model instantiated\n",
            "- classifier.weight: found shape torch.Size([1000, 768]) in the checkpoint and torch.Size([10, 768]) in the model instantiated\n",
            "You should probably TRAIN this model on a down-stream task to be able to use it for predictions and inference.\n"
          ]
        }
      ]
    },
    {
      "cell_type": "code",
      "source": [
        "best_weights, best_measure, best_epoch, train_losses, val_losses = train_modelcv(train_loader,\n",
        "                                                                                 val_loader,\n",
        "                                                                                 model,\n",
        "                                                                                 DEVICE,\n",
        "                                                                                 optimizer,\n",
        "                                                                                 EPOCHS,\n",
        "                                                                                 scaler)\n"
      ],
      "metadata": {
        "colab": {
          "base_uri": "https://localhost:8080/"
        },
        "id": "-lOzHV2s9VQH",
        "outputId": "0156890e-efbd-4cc4-db62-6ce372a7a628"
      },
      "execution_count": 11,
      "outputs": [
        {
          "output_type": "stream",
          "name": "stdout",
          "text": [
            "Epoch 1/10\n",
            "----------\n"
          ]
        },
        {
          "output_type": "stream",
          "name": "stderr",
          "text": [
            "/tmp/ipython-input-2627081249.py:11: FutureWarning: `torch.cuda.amp.autocast(args...)` is deprecated. Please use `torch.amp.autocast('cuda', args...)` instead.\n",
            "  with torch.cuda.amp.autocast():\n"
          ]
        },
        {
          "output_type": "stream",
          "name": "stdout",
          "text": [
            "Performance measure: 70.39\n",
            "Current best epoch: 0 with measure: 70.39\n",
            "Epoch 2/10\n",
            "----------\n",
            "Performance measure: 80.47999999999999\n",
            "Current best epoch: 1 with measure: 80.47999999999999\n",
            "Epoch 3/10\n",
            "----------\n",
            "Performance measure: 82.17\n",
            "Current best epoch: 2 with measure: 82.17\n",
            "Epoch 4/10\n",
            "----------\n",
            "Performance measure: 83.61\n",
            "Current best epoch: 3 with measure: 83.61\n",
            "Epoch 5/10\n",
            "----------\n",
            "Performance measure: 84.36\n",
            "Current best epoch: 4 with measure: 84.36\n",
            "Epoch 6/10\n",
            "----------\n",
            "Performance measure: 85.02\n",
            "Current best epoch: 5 with measure: 85.02\n",
            "Epoch 7/10\n",
            "----------\n",
            "Performance measure: 85.94000000000001\n",
            "Current best epoch: 6 with measure: 85.94000000000001\n",
            "Epoch 8/10\n",
            "----------\n",
            "Performance measure: 87.42\n",
            "Current best epoch: 7 with measure: 87.42\n",
            "Epoch 9/10\n",
            "----------\n",
            "Performance measure: 86.35000000000001\n",
            "Epoch 10/10\n",
            "----------\n",
            "Performance measure: 87.86\n",
            "Current best epoch: 9 with measure: 87.86\n"
          ]
        }
      ]
    },
    {
      "cell_type": "markdown",
      "source": [
        "## Plot Results"
      ],
      "metadata": {
        "id": "PYaYp0uD_rbz"
      }
    },
    {
      "cell_type": "code",
      "source": [
        "import torch\n",
        "import numpy as np\n",
        "import matplotlib.pyplot as plt\n",
        "\n",
        "def to_scalar(x):\n",
        "    if isinstance(x, torch.Tensor):\n",
        "        return float(x.detach().cpu().item())\n",
        "    return float(x)\n",
        "\n",
        "def epoch_mean(epoch_list):\n",
        "    # epoch_list can be list of tensors/floats\n",
        "    if len(epoch_list) == 0:\n",
        "        return float(\"nan\")\n",
        "    # Faster/safer with torch when elements are tensors\n",
        "    if isinstance(epoch_list[0], torch.Tensor):\n",
        "        t = torch.stack([e.detach().cpu().float() for e in epoch_list])\n",
        "        return float(t.mean().item())\n",
        "    # otherwise assume floats\n",
        "    return float(np.mean([to_scalar(e) for e in epoch_list]))\n",
        "\n",
        "def plot_train_val_loss(train_losses, val_losses):\n",
        "    # train_losses: List[List[Tensor or float]]\n",
        "    # val_losses:   List[List[Tensor or float]] or List[float]\n",
        "    t_losses = [epoch_mean(epoch) for epoch in train_losses]\n",
        "\n",
        "    # val may be per-batch or already per-epoch\n",
        "    if len(val_losses) > 0 and isinstance(val_losses[0], (list, tuple)):\n",
        "        v_losses = [epoch_mean(epoch) for epoch in val_losses]\n",
        "    else:\n",
        "        v_losses = [to_scalar(e) for e in val_losses]\n",
        "\n",
        "    plt.plot(t_losses, label=\"train loss\")\n",
        "    plt.plot(v_losses, label=\"val loss\")\n",
        "    plt.xlabel(\"epoch\")\n",
        "    plt.ylabel(\"loss\")\n",
        "    plt.legend()\n",
        "    plt.tight_layout()\n",
        "    plt.show()\n",
        "\n",
        "plot_train_val_loss(train_losses, val_losses)"
      ],
      "metadata": {
        "colab": {
          "base_uri": "https://localhost:8080/",
          "height": 487
        },
        "id": "syuh8qy6-D4U",
        "outputId": "18b14a97-a14e-4503-97fb-12132bd131bc"
      },
      "execution_count": 28,
      "outputs": [
        {
          "output_type": "display_data",
          "data": {
            "text/plain": [
              "<Figure size 640x480 with 1 Axes>"
            ],
            "image/png": "[encoded data removed]"
          },
          "metadata": {}
        }
      ]
    }
  ]
}